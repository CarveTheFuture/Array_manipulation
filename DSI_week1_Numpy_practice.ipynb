{
 "cells": [
  {
   "cell_type": "code",
   "execution_count": null,
   "metadata": {},
   "outputs": [],
   "source": [
    "import numpy as np"
   ]
  },
  {
   "cell_type": "code",
   "execution_count": null,
   "metadata": {},
   "outputs": [],
   "source": []
  },
  {
   "cell_type": "markdown",
   "metadata": {},
   "source": [
    "Write a function that creates a column vector (an array of shape (n, 1)) containing the sequence of numbers 0, 1, 2, ..., n-1:\n",
    "\n",
    "column_vector(3)\n",
    "    => [[0], [1], [2]]\n"
   ]
  },
  {
   "cell_type": "code",
   "execution_count": 2,
   "metadata": {},
   "outputs": [
    {
     "name": "stdout",
     "output_type": "stream",
     "text": [
      "[0 1 2 3 4]\n"
     ]
    }
   ],
   "source": [
    "import numpy as np\n",
    "n=5\n",
    "col=np.array(np.arange(0,n))\n",
    "print (col)"
   ]
  },
  {
   "cell_type": "markdown",
   "metadata": {},
   "source": [
    "Write a function that creates an array of random floating point numbers between zero and one of a given shape. Do not assume that the shape will be a 2D array; your function should work for any shape. Your function should return something like:\n",
    "\n",
    "random_array((4, 3))\n",
    "    => array([\n",
    "        [ 0.30159734,  0.46366088,  0.78706666],\n",
    "        [ 0.26946135,  0.80638833,  0.25265662],\n",
    "        [ 0.82426648,  0.46202413,  0.20735323],\n",
    "        [ 0.19923862,  0.4677537 ,  0.60799465]])\n",
    "random_array((2,2,2,2)) \n",
    "    => array([\n",
    "        [[[0.6840515 , 0.9126597 ],\n",
    "        [0.41925388, 0.88833245]],\n",
    "\n",
    "        [[0.42349186, 0.65294607],\n",
    "        [0.31532532, 0.64656652]]],\n",
    "\n",
    "        [[[0.50583897, 0.56033669],\n",
    "        [0.50719292, 0.30445478]],\n",
    "\n",
    "        [[0.94537857, 0.31618756],\n",
    "        [0.21473817, 0.7942768 ]]]])\n"
   ]
  },
  {
   "cell_type": "code",
   "execution_count": 7,
   "metadata": {},
   "outputs": [
    {
     "name": "stdout",
     "output_type": "stream",
     "text": [
      "[[0.         0.33333333]\n",
      " [0.66666667 1.        ]]\n"
     ]
    }
   ],
   "source": [
    "c=2,2\n",
    "b=np.linspace(0,1,num=4).reshape(c)\n",
    "print (b)"
   ]
  },
  {
   "cell_type": "code",
   "execution_count": null,
   "metadata": {},
   "outputs": [],
   "source": []
  },
  {
   "cell_type": "code",
   "execution_count": null,
   "metadata": {},
   "outputs": [],
   "source": []
  },
  {
   "cell_type": "markdown",
   "metadata": {},
   "source": [
    "Given an integer numpy array of 0's and 1's, write a function that creates a new array where 0's are replaced with the word \"red\" and 1's are replaced with the word \"blue\".\n",
    "\n",
    "x = np.array([0, 0, 1, 0, 1]) \n",
    "color_replace(x)\n",
    "    => np.array([\"red\", \"red\", \"blue\", \"red\", \"blue\"])\n"
   ]
  },
  {
   "cell_type": "code",
   "execution_count": 47,
   "metadata": {},
   "outputs": [],
   "source": [
    "x = np.array([0, 0, 1, 0, 1]) \n",
    "#b = np.array(['red', 'red', 'red', 'red', 'red']) \n",
    "b = np.array(['blue', 'blue', ' blue', ' blue', ' blue']) \n",
    "\n",
    "#y=np.full((1,1),'blue',dtype=object)"
   ]
  },
  {
   "cell_type": "code",
   "execution_count": 45,
   "metadata": {},
   "outputs": [],
   "source": [
    "b[x]='red'"
   ]
  },
  {
   "cell_type": "code",
   "execution_count": 46,
   "metadata": {},
   "outputs": [
    {
     "name": "stdout",
     "output_type": "stream",
     "text": [
      "['red' 'red' ' blue' ' blue' ' blue']\n"
     ]
    }
   ],
   "source": [
    "print(b)"
   ]
  },
  {
   "cell_type": "code",
   "execution_count": null,
   "metadata": {},
   "outputs": [],
   "source": []
  },
  {
   "cell_type": "code",
   "execution_count": null,
   "metadata": {},
   "outputs": [],
   "source": []
  },
  {
   "cell_type": "code",
   "execution_count": 39,
   "metadata": {},
   "outputs": [
    {
     "name": "stdout",
     "output_type": "stream",
     "text": [
      "[0. 0. 0. 0. 0.]\n"
     ]
    },
    {
     "ename": "UFuncTypeError",
     "evalue": "ufunc 'multiply' did not contain a loop with signature matching types (dtype('<U11'), dtype('<U11')) -> dtype('<U11')",
     "output_type": "error",
     "traceback": [
      "\u001b[1;31m---------------------------------------------------------------------------\u001b[0m",
      "\u001b[1;31mUFuncTypeError\u001b[0m                            Traceback (most recent call last)",
      "\u001b[1;32m<ipython-input-39-03808f5e2e6c>\u001b[0m in \u001b[0;36m<module>\u001b[1;34m\u001b[0m\n\u001b[0;32m      3\u001b[0m \u001b[1;31m#print(x[b])\u001b[0m\u001b[1;33m\u001b[0m\u001b[1;33m\u001b[0m\u001b[1;33m\u001b[0m\u001b[0m\n\u001b[0;32m      4\u001b[0m \u001b[1;31m#print(x*b)\u001b[0m\u001b[1;33m\u001b[0m\u001b[1;33m\u001b[0m\u001b[1;33m\u001b[0m\u001b[0m\n\u001b[1;32m----> 5\u001b[1;33m \u001b[0mz\u001b[0m\u001b[1;33m+\u001b[0m\u001b[1;33m(\u001b[0m\u001b[0mx\u001b[0m\u001b[1;33m*\u001b[0m\u001b[0mb\u001b[0m\u001b[1;33m)\u001b[0m\u001b[1;33m+\u001b[0m\u001b[0my\u001b[0m\u001b[1;33m*\u001b[0m\u001b[0mb\u001b[0m\u001b[1;33m\u001b[0m\u001b[1;33m\u001b[0m\u001b[0m\n\u001b[0m",
      "\u001b[1;31mUFuncTypeError\u001b[0m: ufunc 'multiply' did not contain a loop with signature matching types (dtype('<U11'), dtype('<U11')) -> dtype('<U11')"
     ]
    }
   ],
   "source": [
    "z=np.zeros(x.shape)\n",
    "print(z)\n",
    "#print(x[b])\n",
    "#print(x*b)\n",
    "z+(x*b)+y*b"
   ]
  },
  {
   "cell_type": "markdown",
   "metadata": {},
   "source": [
    "Given two equal length arrays, x with some general numeric data, and b an array of booleans, write a function that computes the sum of the data in x at the same positions where b is True, and the sum of the values in x at the positions where b is false.\n",
    "\n",
    "x = np.array([0,    1,    2,     3,    4,     5])\n",
    "b = np.array([True, True, False, True, False, False])\n",
    "compute_true_false_sums(x, b)\n",
    "    => {True: 4, False: 11}\n"
   ]
  },
  {
   "cell_type": "code",
   "execution_count": 22,
   "metadata": {},
   "outputs": [
    {
     "data": {
      "text/plain": [
       "array([0, 2, 6])"
      ]
     },
     "execution_count": 22,
     "metadata": {},
     "output_type": "execute_result"
    }
   ],
   "source": [
    "x = np.array([0,    1,    2,     3,    4,     5])\n",
    "b = np.array([True, True, False, True, False, False])\n",
    "x[b]+x[b]\n"
   ]
  },
  {
   "cell_type": "markdown",
   "metadata": {},
   "source": [
    "Write a function that selects from one of two arrays based on the value in another boolean array.\n",
    "\n",
    "x = np.array([1,    2,    3,     4,    5,     6])\n",
    "y = np.array([10,   20,   30,    40,   50,    60])\n",
    "b = np.array([True, True, False, True, False, True])\n",
    "select_from_two_arrays(x, y, b):\n",
    "    => np.array([1, 2, 30, 4, 50, 6])\n"
   ]
  },
  {
   "cell_type": "code",
   "execution_count": 23,
   "metadata": {},
   "outputs": [],
   "source": [
    "x = np.array([1,    2,    3,     4,    5,     6])\n",
    "y = np.array([10,   20,   30,    40,   50,    60])\n",
    "b = np.array([True, True, False, True, False, True])\n"
   ]
  },
  {
   "cell_type": "code",
   "execution_count": 30,
   "metadata": {},
   "outputs": [
    {
     "name": "stdout",
     "output_type": "stream",
     "text": [
      "[0. 0. 0. 0. 0. 0.]\n",
      "[1 2 4 6]\n",
      "[1 2 0 4 0 6]\n"
     ]
    },
    {
     "data": {
      "text/plain": [
       "array([11., 22.,  0., 44.,  0., 66.])"
      ]
     },
     "execution_count": 30,
     "metadata": {},
     "output_type": "execute_result"
    }
   ],
   "source": [
    "z=np.zeros(x.shape)\n",
    "print(z)\n",
    "print(x[b])\n",
    "print(x*b)\n",
    "z+(x*b)+y*b"
   ]
  },
  {
   "cell_type": "markdown",
   "metadata": {},
   "source": [
    "Write a function that compute the sum of squared differences between two arrays:\n",
    "\n",
    "x = np.array([0, 1, 0, 1, 0, 1])\n",
    "y = np.array([0, 1, 2, 3, 4, 5])\n",
    "sum_of_squared_differences(x, y)\n",
    "    => 40"
   ]
  },
  {
   "cell_type": "code",
   "execution_count": 31,
   "metadata": {},
   "outputs": [],
   "source": [
    "x = np.array([0, 1, 0, 1, 0, 1])\n",
    "y = np.array([0, 1, 2, 3, 4, 5])\n"
   ]
  },
  {
   "cell_type": "code",
   "execution_count": 34,
   "metadata": {},
   "outputs": [
    {
     "name": "stdout",
     "output_type": "stream",
     "text": [
      "40\n"
     ]
    }
   ],
   "source": [
    "s=(y-x)**2\n",
    "print(np.sum(s))"
   ]
  },
  {
   "cell_type": "markdown",
   "metadata": {},
   "source": [
    "Write a function that consumes a two-dimensional numpy array (so, a matrix), and a label which is either \"row\" or \"column\". The function should return a one-dimensional numpy array (vector) with either the row or column averages.\n",
    "\n",
    "X = np.array([[0, 1], [2, 1]])\n",
    "row_or_column_means(X, label=\"row\")\n",
    "    => np.array([0.5, 1.5])\n",
    "row_or_column_means(X, label=\"column\")\n",
    "    => np.array([1.0, 1.0])\n",
    "`"
   ]
  },
  {
   "cell_type": "code",
   "execution_count": 49,
   "metadata": {},
   "outputs": [],
   "source": [
    "def row_or_column_means():\n",
    "    X = np.array([[0, 1], [2, 1]])\n",
    "    if 'row'=='row':\n",
    "        return np.mean(x,axis=0)\n",
    "    elif 'row'=='column':\n",
    "        return np.mean(x,axis=1)"
   ]
  },
  {
   "cell_type": "markdown",
   "metadata": {},
   "source": [
    "Write a function that creates a square two-dimensional array of zeros, but with ones on the diagonals immediately below and above the main diagonal. For example, when n=5, you should create the following two-dimensional array\n",
    "\n",
    "ones_above_and_below_diagonal(5)\n",
    "    => np.array([\n",
    "  [0, 1, 0, 0, 0],\n",
    "  [1, 0, 1, 0, 0],\n",
    "  [0, 1, 0, 1, 0],\n",
    "  [0, 0, 1, 0, 1],\n",
    "  [0, 0, 0, 1, 0]\n",
    "])"
   ]
  },
  {
   "cell_type": "code",
   "execution_count": 50,
   "metadata": {},
   "outputs": [],
   "source": [
    "b=np.zeros((5,5))"
   ]
  },
  {
   "cell_type": "code",
   "execution_count": null,
   "metadata": {},
   "outputs": [],
   "source": [
    "d=5+1"
   ]
  },
  {
   "cell_type": "code",
   "execution_count": 66,
   "metadata": {},
   "outputs": [
    {
     "name": "stdout",
     "output_type": "stream",
     "text": [
      "[[0, 1.0, 0, 0, 0, 1], [0, 1.0, 0, 0, 0, 1], [0, 1.0, 0, 0, 0, 1], [0, 1.0, 0, 0, 0, 1], [0, 1.0, 0, 0, 0, 1], [0, 1.0, 0, 0, 0, 1]]\n"
     ]
    }
   ],
   "source": [
    "c=[0,1.0,0,0,0,1]\n",
    "f=[]\n",
    "n=range(len(c))\n",
    "for i in range(len(c)):\n",
    "    f.append(c)\n",
    "print(f)\n",
    "c=np.array(c)"
   ]
  },
  {
   "cell_type": "code",
   "execution_count": 65,
   "metadata": {},
   "outputs": [
    {
     "name": "stdout",
     "output_type": "stream",
     "text": [
      "[[0, 1.0, 0, 0, 1], [0, 1.0, 0, 0, 1], [0, 1.0, 0, 0, 1], [0, 1.0, 0, 0, 1], [0, 1.0, 0, 0, 1]]\n"
     ]
    }
   ],
   "source": [
    "f=f[:n*2]\n",
    "print(f)"
   ]
  },
  {
   "cell_type": "code",
   "execution_count": 69,
   "metadata": {},
   "outputs": [
    {
     "data": {
      "text/plain": [
       "array([[0., 1., 0., 0., 0., 1., 0., 1., 0., 0., 0., 1., 0., 1., 0., 0.,\n",
       "        0., 1., 0., 1., 0., 0., 0., 1., 0., 1., 0., 0., 0., 1., 0., 1.,\n",
       "        0., 0., 0., 1.]])"
      ]
     },
     "execution_count": 69,
     "metadata": {},
     "output_type": "execute_result"
    }
   ],
   "source": [
    "z=np.array(f).reshape(1,-1)"
   ]
  },
  {
   "cell_type": "code",
   "execution_count": 73,
   "metadata": {},
   "outputs": [
    {
     "ename": "TypeError",
     "evalue": "unsupported operand type(s) for *: 'range' and 'int'",
     "output_type": "error",
     "traceback": [
      "\u001b[1;31m---------------------------------------------------------------------------\u001b[0m",
      "\u001b[1;31mTypeError\u001b[0m                                 Traceback (most recent call last)",
      "\u001b[1;32m<ipython-input-73-a0d5cc0e72aa>\u001b[0m in \u001b[0;36m<module>\u001b[1;34m\u001b[0m\n\u001b[1;32m----> 1\u001b[1;33m \u001b[0mz\u001b[0m\u001b[1;33m=\u001b[0m\u001b[0mz\u001b[0m\u001b[1;33m[\u001b[0m\u001b[1;33m:\u001b[0m\u001b[1;33m,\u001b[0m\u001b[0mn\u001b[0m\u001b[1;33m*\u001b[0m\u001b[1;36m2\u001b[0m\u001b[1;33m]\u001b[0m\u001b[1;33m\u001b[0m\u001b[1;33m\u001b[0m\u001b[0m\n\u001b[0m\u001b[0;32m      2\u001b[0m \u001b[0mprint\u001b[0m\u001b[1;33m(\u001b[0m\u001b[0mz\u001b[0m\u001b[1;33m)\u001b[0m\u001b[1;33m\u001b[0m\u001b[1;33m\u001b[0m\u001b[0m\n",
      "\u001b[1;31mTypeError\u001b[0m: unsupported operand type(s) for *: 'range' and 'int'"
     ]
    }
   ],
   "source": [
    "z=z[:,n*2]\n",
    "print(z)"
   ]
  },
  {
   "cell_type": "code",
   "execution_count": null,
   "metadata": {},
   "outputs": [],
   "source": []
  },
  {
   "cell_type": "code",
   "execution_count": 59,
   "metadata": {},
   "outputs": [
    {
     "data": {
      "text/plain": [
       "array([0., 1., 0., 0., 1.])"
      ]
     },
     "execution_count": 59,
     "metadata": {},
     "output_type": "execute_result"
    }
   ],
   "source": [
    "c*[1,1,1,1,1]"
   ]
  },
  {
   "cell_type": "code",
   "execution_count": 56,
   "metadata": {},
   "outputs": [
    {
     "data": {
      "text/plain": [
       "array([0., 1., 0., 0., 1.])"
      ]
     },
     "execution_count": 56,
     "metadata": {},
     "output_type": "execute_result"
    }
   ],
   "source": [
    "[1]*c"
   ]
  },
  {
   "cell_type": "code",
   "execution_count": 52,
   "metadata": {},
   "outputs": [
    {
     "data": {
      "text/plain": [
       "0.0"
      ]
     },
     "execution_count": 52,
     "metadata": {},
     "output_type": "execute_result"
    }
   ],
   "source": [
    "b[0,1]\n",
    "b[1,0]\n",
    "b[1,2]\n",
    "b[2,1]\n",
    "b[3,2]\n",
    "b[3,4]\n",
    "b[4,3]\n",
    "\n",
    "\n",
    "\n",
    "\n",
    "\n"
   ]
  },
  {
   "cell_type": "markdown",
   "metadata": {},
   "source": [
    "Write a function that creates a square two-dimensional array with a checkerboard pattern of 0's and 1's of any given size.\n",
    "\n",
    "checkerboard(5)\n",
    "    => np.array([\n",
    "  [1, 0, 1, 0, 1],\n",
    "  [0, 1, 0, 1, 0],\n",
    "  [1, 0, 1, 0, 1],\n",
    "  [0, 1, 0, 1, 0],\n",
    "  [1, 0, 1, 0, 1],\n",
    "])\n",
    "Write a function that creates a square two-dimensional array with ones around the border, and zeros in the interior.\n",
    "\n",
    "ones_border(5)\n",
    "    => array([\n",
    "  [1, 1, 1, 1, 1],\n",
    "  [1, 0, 0, 0, 1],\n",
    "  [1, 0, 0, 0, 1],\n",
    "  [1, 0, 0, 0, 1],\n",
    "  [1, 1, 1, 1, 1]\n",
    "])\n",
    "Given a two-dimensional array M, create a new two-dimensional array containing only the columns of M where at least one of the entries is negative.\n",
    "\n",
    "M = np.array([[ 0.5,  0.2, -0.3,  0. ],\n",
    "              [ 0.4,  0.3,  0.3,  0.4],\n",
    "              [-0.2, -0.4,  0.1,  0.4]])\n",
    "select_negative_columns(M)\n",
    ">>> array([[ 0.5,  0.2, -0.3],\n",
    "           [ 0.4,  0.3,  0.3],\n",
    "           [-0.2, -0.4,  0.1]])\n",
    "Given an array and a number, find the index of the number in the array that is closest to the number.\n",
    "\n",
    "x = np.random.randint(100, size=10)\n",
    "x\n",
    "    => array([89, 55, 76,  4, 12, 86, 18, 18, 30, 88])\n",
    "get_closest_idx(x, 11)\n",
    "    => 4\n",
    "Subtract the row mean from each row of a two-dimensional array (element by element).\n",
    "\n",
    "x = np.array([\n",
    "    [0, 1, 0, 1],\n",
    "    [1, 1, 1, 1],\n",
    "    [1, 2, 3, 4]])\n",
    "subtract_row_means(x)\n",
    "    => np.array([\n",
    "  [-0.5,  0.5, -0.5,  0.5],\n",
    "  [ 0. ,  0. ,  0. ,  0. ],\n",
    "  [-1.5, -0.5,  0.5,  1.5]])\n",
    "Extra Credit\n",
    "Part 3\n",
    "Write a function that converts an array of shape (n, 2) representing Cartesian coordinates of n points into a new (n, 2) array containing the polar coordinates of those points.\n",
    "\n",
    "x = np.array([[0, 1], [1, 0], [1, 1]])\n",
    "cartesian_to_polar(x)\n",
    "    => np.array([1, np.pi / 2], [1, 0], [np.sqrt(2), np.pi / 4])\n",
    "Given an array x, and a two-dimensional array M with the same number of columns as the length of x, find the row in M that makes the smallest angle with x.\n",
    "\n",
    "x = np.array([-0.2,  0.4,  0.4,  0.7])\n",
    "M = np.array([[ 0.8, -0.8,  0.1,  0.1],\n",
    "           [ 0.1, -0. , -0.2, -0.8],\n",
    "           [-0.3, -0.8, -0.1,  0.2],\n",
    "           [ 0.5, -0.5,  0.4,  0.3],\n",
    "           [ 0.5, -0. ,  0.5, -0.4]])\n",
    "smallest_angle(x, M)\n",
    ">>> array([ 0.5, -0.5,  0.4,  0.3])\n",
    "Do additional problems from 100 Numpy Exercises\n",
    "\n",
    "(*) There is also a work in progress version of this for Pandas, if you are interested in that:\n",
    "\n",
    "100 Pandas Exercises"
   ]
  },
  {
   "cell_type": "code",
   "execution_count": null,
   "metadata": {},
   "outputs": [],
   "source": []
  }
 ],
 "metadata": {
  "kernelspec": {
   "display_name": "Python 3",
   "language": "python",
   "name": "python3"
  },
  "language_info": {
   "codemirror_mode": {
    "name": "ipython",
    "version": 3
   },
   "file_extension": ".py",
   "mimetype": "text/x-python",
   "name": "python",
   "nbconvert_exporter": "python",
   "pygments_lexer": "ipython3",
   "version": "3.7.6"
  }
 },
 "nbformat": 4,
 "nbformat_minor": 4
}
