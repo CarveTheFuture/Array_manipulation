{
 "cells": [
  {
   "cell_type": "markdown",
   "metadata": {},
   "source": [
    "7 October 2020\n",
    "Linear Algebra\n",
    "Introduction\n",
    "In this assignment, we demonstrate matrix and vector operations with numpy.\n",
    "\n",
    "For the following exercises, we strive to use numpy vector/matrix operations, instead of for loop over a numpy array unless given explicit instructions to do so!\n",
    "\n",
    "Important Numpy Notes:\n",
    "In an numpy array, a row vector is defined as:\n",
    "\n",
    "a = np.array([[1, 2, 3]])\n",
    "The shape of a is (1, 3). There is one row and multiple columns.\n",
    "\n",
    "A column vector is defined as:\n",
    "\n",
    "b = np.array([[1], [2], [3]])\n",
    "The shape of b is (3, 1). There are three rows, and one column.\n",
    "\n",
    "Check the shape of all the vectors throughout the exercise. If the shape is missing a value, i.e. (3,) or (,3), use np.newaxis or np.reshape to restore the correct dimensions.\n",
    "\n"
   ]
  },
  {
   "cell_type": "markdown",
   "metadata": {},
   "source": [
    "Basic\n",
    "Part 1: Markov Chains\n",
    "A Markov Chain is a simple model for a system that transitions between states, where there is some randomness involved in the transitions. If, for example, the system has three states (on, off, and idle, for example), then the probabilities from transitioning from one state to another can be encoded as a three by three matrix of probabilities with some simple properties, this is called a stochastic matrix.\n",
    "\n",
    "The probability of entering a certain state depends only on the last state occupied and the transition probabilities in the stochastic matrix, not on the entire history of states. This is called the markov property, and it makes Markov Chains particularly simple and appealing models.\n",
    "\n",
    "Suppose that the 2004 state of land use in a city of 60 mi^2 of built-up area is:\n",
    "\n",
    "In 2004:\n",
    "   \n",
    "C (Commercially Used): 25%\n",
    "I (Industrially Used): 20%\n",
    "R (Residentially Used): 55%\n",
    "Find the state of land use in 2009 and 2014, assuming that the transition probabilities for 5-year intervals are given by the matrix A and remain practically the same over the time considered.\n",
    "\n",
    "\n",
    "\n"
   ]
  },
  {
   "cell_type": "code",
   "execution_count": 1,
   "metadata": {},
   "outputs": [],
   "source": [
    "import numpy as np"
   ]
  },
  {
   "cell_type": "code",
   "execution_count": 2,
   "metadata": {},
   "outputs": [],
   "source": [
    "A=np.array([[0.7,0.1,0],[0.2,0.9,0.2],[0.1,0,0.8]])"
   ]
  },
  {
   "cell_type": "code",
   "execution_count": 3,
   "metadata": {},
   "outputs": [],
   "source": [
    "state_04=np.array([0.25,0.2,0.55])"
   ]
  },
  {
   "cell_type": "code",
   "execution_count": 4,
   "metadata": {},
   "outputs": [
    {
     "data": {
      "text/plain": [
       "array([0.195, 0.34 , 0.465])"
      ]
     },
     "execution_count": 4,
     "metadata": {},
     "output_type": "execute_result"
    }
   ],
   "source": [
    "state_09=A@state_04\n",
    "state_09"
   ]
  },
  {
   "cell_type": "code",
   "execution_count": 5,
   "metadata": {},
   "outputs": [
    {
     "data": {
      "text/plain": [
       "array([0.1705, 0.438 , 0.3915])"
      ]
     },
     "execution_count": 5,
     "metadata": {},
     "output_type": "execute_result"
    }
   ],
   "source": [
    "state_14=A@state_09\n",
    "state_14"
   ]
  },
  {
   "cell_type": "markdown",
   "metadata": {},
   "source": [
    "Suppose that all of the land in the city starts as residential. Use the transition matrix to plot how the usage of the other three land types evolves over time.\n",
    "\n",
    "Do the same as above for both an all industrial and an all commercial starting point. How does the long term makeup of the city differ for different starting points?\n",
    "\n"
   ]
  },
  {
   "cell_type": "code",
   "execution_count": 6,
   "metadata": {},
   "outputs": [],
   "source": [
    "state_00_R=np.array([0,0,1])"
   ]
  },
  {
   "cell_type": "code",
   "execution_count": 7,
   "metadata": {
    "scrolled": false
   },
   "outputs": [
    {
     "name": "stdout",
     "output_type": "stream",
     "text": [
      "[[[0.7    0.1    0.    ]\n",
      "  [0.2    0.9    0.2   ]\n",
      "  [0.1    0.     0.8   ]]\n",
      "\n",
      " [[0.51   0.16   0.02  ]\n",
      "  [0.34   0.83   0.34  ]\n",
      "  [0.15   0.01   0.64  ]]\n",
      "\n",
      " [[0.391  0.195  0.048 ]\n",
      "  [0.438  0.781  0.438 ]\n",
      "  [0.171  0.024  0.514 ]]\n",
      "\n",
      " [[0.3175 0.2146 0.0774]\n",
      "  [0.5066 0.7467 0.5066]\n",
      "  [0.1759 0.0387 0.416 ]]]\n"
     ]
    }
   ],
   "source": [
    "mega_array=np.array([A,A@A,A@A@A,A@A@A@A])\n",
    "print(mega_array)\n"
   ]
  },
  {
   "cell_type": "code",
   "execution_count": 8,
   "metadata": {},
   "outputs": [],
   "source": [
    "data=mega_array*state_00_R\n",
    "\n"
   ]
  },
  {
   "cell_type": "code",
   "execution_count": 9,
   "metadata": {},
   "outputs": [
    {
     "name": "stdout",
     "output_type": "stream",
     "text": [
      "[0.  0.2 0.8]\n"
     ]
    }
   ],
   "source": [
    "state_05_R=A@state_00_R\n",
    "print(state_05_R)"
   ]
  },
  {
   "cell_type": "code",
   "execution_count": 10,
   "metadata": {},
   "outputs": [
    {
     "name": "stdout",
     "output_type": "stream",
     "text": [
      "[0.02 0.34 0.64]\n"
     ]
    }
   ],
   "source": [
    "state_10_R=A@state_05_R\n",
    "print(state_10_R)"
   ]
  },
  {
   "cell_type": "code",
   "execution_count": 11,
   "metadata": {},
   "outputs": [
    {
     "name": "stdout",
     "output_type": "stream",
     "text": [
      "[0.048 0.438 0.514]\n"
     ]
    }
   ],
   "source": [
    "state_15_R=A@state_10_R\n",
    "print(state_15_R)"
   ]
  },
  {
   "cell_type": "code",
   "execution_count": 12,
   "metadata": {},
   "outputs": [],
   "source": [
    "state_00_C=np.array([1,0,0])"
   ]
  },
  {
   "cell_type": "code",
   "execution_count": 13,
   "metadata": {},
   "outputs": [
    {
     "name": "stdout",
     "output_type": "stream",
     "text": [
      "[0.7 0.2 0.1]\n"
     ]
    }
   ],
   "source": [
    "state_05_C=A@state_00_C\n",
    "print(state_05_C)"
   ]
  },
  {
   "cell_type": "code",
   "execution_count": 14,
   "metadata": {},
   "outputs": [
    {
     "name": "stdout",
     "output_type": "stream",
     "text": [
      "[0.51 0.34 0.15]\n"
     ]
    }
   ],
   "source": [
    "state_10_C=A@state_05_C\n",
    "print(state_10_C)"
   ]
  },
  {
   "cell_type": "code",
   "execution_count": 15,
   "metadata": {},
   "outputs": [
    {
     "name": "stdout",
     "output_type": "stream",
     "text": [
      "[0.391 0.438 0.171]\n"
     ]
    }
   ],
   "source": [
    "state_15_C=A@state_10_C\n",
    "print(state_15_C)"
   ]
  },
  {
   "cell_type": "code",
   "execution_count": 16,
   "metadata": {},
   "outputs": [],
   "source": [
    "state_00_I=np.array([0,1,0])"
   ]
  },
  {
   "cell_type": "code",
   "execution_count": 17,
   "metadata": {},
   "outputs": [
    {
     "name": "stdout",
     "output_type": "stream",
     "text": [
      "[0.1 0.9 0. ]\n"
     ]
    }
   ],
   "source": [
    "state_05_I=A@state_00_I\n",
    "print(state_05_I)"
   ]
  },
  {
   "cell_type": "code",
   "execution_count": 18,
   "metadata": {},
   "outputs": [
    {
     "name": "stdout",
     "output_type": "stream",
     "text": [
      "[0.16 0.83 0.01]\n"
     ]
    }
   ],
   "source": [
    "state_10_I=A@state_05_I\n",
    "print(state_10_I)"
   ]
  },
  {
   "cell_type": "code",
   "execution_count": 19,
   "metadata": {},
   "outputs": [
    {
     "name": "stdout",
     "output_type": "stream",
     "text": [
      "[0.195 0.781 0.024]\n"
     ]
    }
   ],
   "source": [
    "state_15_I=A@state_10_I\n",
    "print(state_15_I)"
   ]
  },
  {
   "cell_type": "code",
   "execution_count": 20,
   "metadata": {},
   "outputs": [
    {
     "ename": "SyntaxError",
     "evalue": "invalid syntax (<ipython-input-20-7fc044901ab3>, line 2)",
     "output_type": "error",
     "traceback": [
      "\u001b[1;36m  File \u001b[1;32m\"<ipython-input-20-7fc044901ab3>\"\u001b[1;36m, line \u001b[1;32m2\u001b[0m\n\u001b[1;33m    Part 2: Iris\u001b[0m\n\u001b[1;37m         ^\u001b[0m\n\u001b[1;31mSyntaxError\u001b[0m\u001b[1;31m:\u001b[0m invalid syntax\n"
     ]
    }
   ],
   "source": [
    "Advanced\n",
    "Part 2: Iris\n",
    "This following question uses the iris dataset. Load the data in with the following code.\n",
    "\n",
    "iris = pd.read_csv('data/iris.txt')\n",
    "data = iris[['SepalWidth', 'SepalLength']].values\n",
    "Make a scatter plot of sepal width vs sepal length (you will have to explore the iris object to extract this information).\n",
    "\n",
    "Compute the mean vector (column-wise) of the data matrix. The shape of the mean vector should be (1, 2)\n",
    "\n",
    "Plot the mean sepal width and sepal length vector on the scatter plot in 1.\n",
    "\n",
    "\n",
    "Write a function (euclidean_dist) to calculate the euclidean distance between two column vectors (not row vector). Your function should check if the vectors are column vectors and the shape of the two vectors are the same .\n",
    "\n",
    "Write a function (cosine_sim) to calculate the cosine of the angle of separation between two column vectors.\n",
    "\n",
    "Write a function that would loop through all the data points in a given matrix and calculate the given distance metric between each of the data point and the mean vector.\n",
    "\n",
    "Input of the function:\n",
    "\n",
    "Data matrix as an ndarray\n",
    "Function to compute distance metric (Euclidean / Cosine Similarity)\n",
    "Output of the function:\n",
    "\n",
    "An array of distances.\n",
    "Use the function to compute Euclidean Distance and Cosine Similarity between each of the data points and the mean of the data points. You should be able to call the function in this manner:\n",
    "\n",
    "euclidean_dists = compute_dist(iris_data, euclidean_dist)\n",
    "cosine_sims = compute_dist(iris_data, cosine_sim)\n",
    "Plot histograms of the euclidean distances and cosine similarities using only sepal width and sepal length.\n",
    "\n",
    "\n",
    "\n"
   ]
  },
  {
   "cell_type": "code",
   "execution_count": null,
   "metadata": {},
   "outputs": [],
   "source": []
  },
  {
   "cell_type": "code",
   "execution_count": null,
   "metadata": {},
   "outputs": [],
   "source": [
    "Extra Credit\n",
    "Part 3: Implementing the PageRank Algorithm\n",
    "The Page Rank Algorithm is used by Google Search (in their early days) to rank websites in their search engine in terms of the importance of webpages. More about PageRank\n",
    "\n",
    "We will implement PageRank on this simple network of websites.\n",
    "\n",
    "\n",
    "In the above image:\n",
    "\n",
    "Each node is a web page\n",
    "Each directed edge corresponds to one page referencing the other\n",
    "These web pages correspond to the states our Markov chain can be in\n",
    "Assume that the model of our chain is that of a random surfer/walker.\n",
    "In this model, we transition from one web page (state) to the next with equal probability (to begin). Or rather we randomly pick an outgoing edge from our current state. Before we can do any sort of calculation we need to know how we will move on this Markov Chain.\n",
    "\n",
    "Create an numpy ndarray representing the transition probabilities between nodes for the above network (in the image). The position i, j in the matrix corresponds to the probability of going from node i to node j.\n",
    "\n",
    "Now that we have a transition matrix, the next step is to iterate on this from one page to the next (like someone blindly navigating the internet) and see where we end up. The probability distribution for our random surfer can be described in this matrix notation as well (or vector rather).\n",
    "\n",
    "Initialize a vector for the probability of where our random surfer is. It will be a vector with length equal to the number of pages. Initialize it to be equally probable to start on any page (i.e. you start randomly in a state on the chain).\n",
    "\n",
    "To take a step on the chain, simply matrix multiple our user vector by the transition matrix. After one iteration, what is the most likely location for your random surfer?\n",
    "\n",
    "Plot how the probabilities change. Iterate the matrix through the first ten steps. At each step create a bar plot of the surfers probability vector.\n",
    "\n",
    "This time to compute the stationary distribution, we can use numpy's matrix operations. Using the function for calculating eigenvectors compute the stationary distribution (page rank). Is it the same as what you found from above? What is it's eigenvalue?\n",
    "\n",
    "Hint:\n",
    "\n",
    "The stationary state is represented by the real form of the left (first) eigenvector\n",
    "The left eigenvector obtained from numpy.linalg.eig has to be normalized"
   ]
  },
  {
   "cell_type": "code",
   "execution_count": null,
   "metadata": {},
   "outputs": [],
   "source": []
  },
  {
   "cell_type": "code",
   "execution_count": null,
   "metadata": {},
   "outputs": [],
   "source": []
  }
 ],
 "metadata": {
  "kernelspec": {
   "display_name": "Python 3",
   "language": "python",
   "name": "python3"
  },
  "language_info": {
   "codemirror_mode": {
    "name": "ipython",
    "version": 3
   },
   "file_extension": ".py",
   "mimetype": "text/x-python",
   "name": "python",
   "nbconvert_exporter": "python",
   "pygments_lexer": "ipython3",
   "version": "3.7.6"
  }
 },
 "nbformat": 4,
 "nbformat_minor": 4
}
